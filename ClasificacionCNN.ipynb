{
  "cells": [
    {
      "cell_type": "markdown",
      "metadata": {
        "id": "view-in-github",
        "colab_type": "text"
      },
      "source": [
        "<a href=\"https://colab.research.google.com/github/ltabares/ClassificationCNNPneumonnia/blob/main/ClasificacionCNN.ipynb\" target=\"_parent\"><img src=\"https://colab.research.google.com/assets/colab-badge.svg\" alt=\"Open In Colab\"/></a>"
      ]
    },
    {
      "cell_type": "code",
      "source": [
        "#!git clone https://github.com/ltabares/ClassificationCNNPneumonnia.git"
      ],
      "metadata": {
        "colab": {
          "base_uri": "https://localhost:8080/"
        },
        "id": "8A5L4drIbN2A",
        "outputId": "8d24f50d-a721-4740-8960-6ea6ea58edda"
      },
      "execution_count": null,
      "outputs": [
        {
          "output_type": "stream",
          "name": "stdout",
          "text": [
            "Cloning into 'ClassificationCNNPneumonnia'...\n",
            "remote: Enumerating objects: 9, done.\u001b[K\n",
            "remote: Counting objects:  11% (1/9)\u001b[K\rremote: Counting objects:  22% (2/9)\u001b[K\rremote: Counting objects:  33% (3/9)\u001b[K\rremote: Counting objects:  44% (4/9)\u001b[K\rremote: Counting objects:  55% (5/9)\u001b[K\rremote: Counting objects:  66% (6/9)\u001b[K\rremote: Counting objects:  77% (7/9)\u001b[K\rremote: Counting objects:  88% (8/9)\u001b[K\rremote: Counting objects: 100% (9/9)\u001b[K\rremote: Counting objects: 100% (9/9), done.\u001b[K\n",
            "remote: Compressing objects:  14% (1/7)\u001b[K\rremote: Compressing objects:  28% (2/7)\u001b[K\rremote: Compressing objects:  42% (3/7)\u001b[K\rremote: Compressing objects:  57% (4/7)\u001b[K\rremote: Compressing objects:  71% (5/7)\u001b[K\rremote: Compressing objects:  85% (6/7)\u001b[K\rremote: Compressing objects: 100% (7/7)\u001b[K\rremote: Compressing objects: 100% (7/7), done.\u001b[K\n",
            "remote: Total 9 (delta 1), reused 0 (delta 0), pack-reused 0\u001b[K\n",
            "Unpacking objects: 100% (9/9), done.\n"
          ]
        }
      ]
    },
    {
      "cell_type": "markdown",
      "source": [
        "# Nueva sección"
      ],
      "metadata": {
        "id": "-0CBhrHbbXWm"
      }
    },
    {
      "cell_type": "markdown",
      "source": [
        "# **Referencies**\n",
        "\n",
        "\n",
        "1.   To build a CNN using upload images\n",
        "\n",
        "      https://www.tensorflow.org/tutorials/load_data/images\n",
        "\n",
        "2.   Histograma de ecualización\n",
        "\n",
        "    https://towardsdatascience.com/image-augmentation-for-deep-learning-using-keras-and-histogram-equalization-9329f6ae5085\n",
        "    https://www.youtube.com/watch?v=mSbJ1Rqhze0\n",
        "3.   Rotacion de imagenes\n",
        "\n",
        "    https://stackoverflow.com/questions65545653apply-random-shear-augment-to-image-tensor\n",
        "\n",
        "\n"
      ],
      "metadata": {
        "id": "aUD_ZVbUX37w"
      }
    },
    {
      "cell_type": "code",
      "execution_count": null,
      "metadata": {
        "colab": {
          "base_uri": "https://localhost:8080/"
        },
        "id": "KdZECf2r46Ra",
        "outputId": "d56f0e24-9073-4ffa-dd71-d6c824e61870"
      },
      "outputs": [
        {
          "output_type": "stream",
          "name": "stdout",
          "text": [
            "Mounted at /gdrive\n"
          ]
        }
      ],
      "source": [
        "import numpy as np\n",
        "import pandas as pd\n",
        "import os, glob\n",
        "\n",
        "import tensorflow as tf\n",
        "#from tensorflow.keras.preprocessing.image import load_img\n",
        "from keras_preprocessing.image import load_img\n",
        "\n",
        "from PIL import Image, ImageOps \n",
        "\n",
        "import matplotlib.pyplot as plt\n",
        "from sklearn.metrics import roc_curve\n",
        "from sklearn.metrics import auc\n",
        "from sklearn.metrics import confusion_matrix\n",
        "\n",
        "from google.colab import drive\n",
        "from google.colab.patches import cv2_imshow # mostrar imágenes en google colab\n",
        "# Montar Google Drive y leer anotaciones\n",
        "drive.mount('/gdrive')"
      ]
    },
    {
      "cell_type": "code",
      "execution_count": null,
      "metadata": {
        "id": "yzJrCfH7ioJf"
      },
      "outputs": [],
      "source": [
        "#Configuración\n",
        "\n",
        "#Rutas\n",
        "path_data_train = '/gdrive/MyDrive/Colab Notebooks/CNN Pneumonia/train/'\n",
        "path_data_train_he = '/gdrive/MyDrive/Colab Notebooks/CNN Pneumonia/train_he/'\n",
        "\n",
        "path_data_test = '/gdrive/MyDrive/Colab Notebooks/CNN Pneumonia/test/'\n",
        "path_data_test_he = '/gdrive/MyDrive/Colab Notebooks/CNN Pneumonia/test_he/'\n",
        "\n",
        "#Categorías\n",
        "cat = ['NORMAL', 'PNEUMONIA']\n",
        "\n",
        "#Tipo de imagenes\n",
        "type_image = 'jpeg'\n",
        "\n",
        "#Si queremos apluicar Histogramas de ecualización a las imágenes y guardarlas en una nueva carpeta.\n",
        "#Esto se hace una vez sola si los datos son los mismos\n",
        "eh = False\n",
        "\n",
        "#tamaño de la imagen\n",
        "size_image = 224\n",
        "\n",
        "#Tamaño de los batch\n",
        "batch_size = 15"
      ]
    },
    {
      "cell_type": "code",
      "source": [],
      "metadata": {
        "id": "cLl-Gz4vaqJM"
      },
      "execution_count": null,
      "outputs": []
    },
    {
      "cell_type": "code",
      "execution_count": null,
      "metadata": {
        "colab": {
          "base_uri": "https://localhost:8080/"
        },
        "id": "OHZfMkSfjsCs",
        "outputId": "51b878ef-7975-460e-aeb4-70f39d0ad3f8"
      },
      "outputs": [
        {
          "output_type": "stream",
          "name": "stdout",
          "text": [
            "Datos NORMAL : 1341\n",
            "Datos PNEUMONIA : 3875\n"
          ]
        }
      ],
      "source": [
        "#Cantidad de datos\n",
        "for cat_ in cat:\n",
        "  print('Datos ' + cat_ + ' : ' + str(len(os.listdir(path_data_train + cat_))))"
      ]
    },
    {
      "cell_type": "code",
      "execution_count": null,
      "metadata": {
        "id": "jKzn8EutP3Wr"
      },
      "outputs": [],
      "source": [
        "#Imagenes con mayor contraste\n",
        "\n",
        "def contraste_img_eh(cat, path_data, type_image, size_image, path_data_he):\n",
        "  #Creamos dos listas, una para los nombres de las imágenes y otra para las imagenes (tipo PIL).\n",
        "  #Luego a cada imagen le aplicamos ecualización de histograma para hacer que la imagen tenga más contraste\n",
        "  #Por último guardamos las nuevas imagenes en una nueva carpeta\n",
        "  #Args:\n",
        "    #cat: categoría\n",
        "    #path_data: carpeta donde están las imagenes originales\n",
        "    #type_image: tipo de imagen (en este caso es jpeg)\n",
        "    #size_image: tamaño de la imagen\n",
        "    #path_data_he: carpeta donde se guardan las imagenes nuevas a las que se le aplicó ecualización de histograma\n",
        "    os.chdir(path_data + cat + '/')\n",
        "    file_name_image = [file for file in glob.glob('*.' + type_image)]\n",
        "    image = [load_img(path_data + cat + '/'+ x, target_size = (size_image,size_image)) for x in file_name_image]\n",
        "    image_eh = list(map(ImageOps.equalize, image))\n",
        "    print(file_name_image)\n",
        "    for i in range(0, len(image_eh)):\n",
        "      image_eh[i].save(path_data_he + cat + \"/\" + file_name_image[i])\n"
      ]
    },
    {
      "cell_type": "code",
      "source": [
        "if eh:\n",
        "  contraste_img_eh('NORMAL', path_data_train, type_image, size_image, path_data_train_he)\n",
        "  contraste_img_eh('PNEUMONIA', path_data_train, type_image, size_image, path_data_train_he)\n",
        "  contraste_img_eh('NORMAL', path_data_test, type_image, size_image, path_data_test_he)\n",
        "  contraste_img_eh('PNEUMONIA', path_data_test, type_image, size_image, path_data_test_he)"
      ],
      "metadata": {
        "id": "lQXj6-VI4Il-"
      },
      "execution_count": null,
      "outputs": []
    },
    {
      "cell_type": "code",
      "execution_count": null,
      "metadata": {
        "colab": {
          "base_uri": "https://localhost:8080/"
        },
        "id": "Se8HDshmw5td",
        "outputId": "a951ad1c-e38c-4614-bd8c-0543827ca652"
      },
      "outputs": [
        {
          "output_type": "stream",
          "name": "stdout",
          "text": [
            "Datos NORMAL : 1341\n",
            "Datos PNEUMONIA : 3875\n"
          ]
        }
      ],
      "source": [
        "#Cantidad de datos\n",
        "for cat_ in cat:\n",
        "  print('Datos ' + cat_ + ' : ' + str(len(os.listdir(path_data_train_he + cat_))))"
      ]
    },
    {
      "cell_type": "code",
      "execution_count": null,
      "metadata": {
        "colab": {
          "base_uri": "https://localhost:8080/"
        },
        "id": "_-vMKBLZ_D0I",
        "outputId": "e61729f2-8d94-432d-a35f-6e2ec2b9fa97"
      },
      "outputs": [
        {
          "output_type": "stream",
          "name": "stdout",
          "text": [
            "Found 5216 files belonging to 2 classes.\n"
          ]
        }
      ],
      "source": [
        "#Obtenemos los datos del directorio y generamos un objeto BatchDataset\n",
        "train_data = tf.keras.utils.image_dataset_from_directory(\n",
        "  path_data_train_he,\n",
        "  labels = 'inferred',\n",
        "  class_names= ['NORMAL', 'PNEUMONIA'],\n",
        "  color_mode = 'grayscale',\n",
        "  shuffle= True, \n",
        "  seed= 123,\n",
        "  image_size= (size_image, size_image),\n",
        "  batch_size= batch_size)\n"
      ]
    },
    {
      "cell_type": "code",
      "execution_count": null,
      "metadata": {
        "colab": {
          "base_uri": "https://localhost:8080/"
        },
        "id": "uqgVz9zyFw1v",
        "outputId": "7b3035fb-5bb9-4453-8d70-ff4256cd95de"
      },
      "outputs": [
        {
          "output_type": "stream",
          "name": "stdout",
          "text": [
            "Found 624 files belonging to 2 classes.\n"
          ]
        }
      ],
      "source": [
        "test_data = tf.keras.utils.image_dataset_from_directory(\n",
        "  path_data_test_he,\n",
        "  labels = 'inferred',\n",
        "  class_names= ['NORMAL', 'PNEUMONIA'],\n",
        "  color_mode = 'grayscale',\n",
        "  shuffle= True,\n",
        "  seed= 123,\n",
        "  image_size= (size_image, size_image),\n",
        "  batch_size= batch_size)\n",
        "\n",
        "\n",
        "y_test = np.concatenate([y for x, y in test_data], axis=0)\n",
        "x_test = np.concatenate([x for x, y in test_data], axis=0)  "
      ]
    },
    {
      "cell_type": "code",
      "execution_count": null,
      "metadata": {
        "colab": {
          "base_uri": "https://localhost:8080/"
        },
        "id": "ld-sSF0EGGcz",
        "outputId": "bd15577f-bb5b-4c1f-8e3e-cd4b086b5239"
      },
      "outputs": [
        {
          "output_type": "stream",
          "name": "stdout",
          "text": [
            "(15, 224, 224, 1)\n",
            "(15,)\n"
          ]
        }
      ],
      "source": [
        "for image_batch, labels_batch in train_data:\n",
        "  print(image_batch.shape)\n",
        "  print(labels_batch.shape)\n",
        "  break"
      ]
    },
    {
      "cell_type": "code",
      "execution_count": null,
      "metadata": {
        "colab": {
          "base_uri": "https://localhost:8080/"
        },
        "id": "MfAwhYBnIpzg",
        "outputId": "3a963423-7f51-42c4-d7ec-ebece112a5e8"
      },
      "outputs": [
        {
          "output_type": "stream",
          "name": "stdout",
          "text": [
            "El valor máximo de pixel es : 255.0\n"
          ]
        }
      ],
      "source": [
        "#Tratamiento de datos\n",
        "#1)estanadarización de datos a valores entre [0,1]\n",
        "#obtenemos el valor máximo de pixel que tienen los datos por supeuesto es 255\n",
        "max_value = tf.reduce_max(np.array(load_img(path_data_train_he + 'NORMAL/'+ 'NORMAL2-IM-1423-0001.jpeg', target_size = (size_image,size_image)), dtype= 'float32'))\n",
        "print('El valor máximo de pixel es :', max_value.numpy().max())\n",
        "\n",
        "if max_value.numpy().max() > 1:\n",
        "  rescalado = tf.keras.Sequential([tf.keras.layers.Rescaling(scale= 1./max_value.numpy().max(), offset= 0.0, name= 'rescaladoImagen')])\n"
      ]
    },
    {
      "cell_type": "code",
      "execution_count": null,
      "metadata": {
        "id": "kXXGP0i1qSfo"
      },
      "outputs": [],
      "source": [
        "#2)hacemos zoom in. Los valores del zoom son negativos porque queremos aumentar de la imagen\n",
        "zoom_in = tf.keras.Sequential([tf.keras.layers.RandomZoom(height_factor= [-0.05, -0.5], width_factor= [-0.05, -0.5], name= 'zoomInImagen')])\n",
        "\n",
        "\n",
        "#3)rotación de imagenes. Pendiente\n"
      ]
    },
    {
      "cell_type": "code",
      "execution_count": null,
      "metadata": {
        "id": "apzK8UcZ_EzW"
      },
      "outputs": [],
      "source": [
        "#CNN\n",
        "filtro_conv1 = 16\n",
        "size_filtro1 = (5,5)\n",
        "size_pool1= (2,2)\n",
        "\n",
        "filtro_conv2 = 32\n",
        "size_filtro2 = (5,5)\n",
        "size_pool2= (2,2)\n",
        "\n",
        "epocas = 5\n",
        "\n",
        "#NN\n",
        "neuron_dense1 = 120\n",
        "drop_out = 0.5\n",
        "\n",
        "num_cat = len(cat)"
      ]
    },
    {
      "cell_type": "code",
      "execution_count": null,
      "metadata": {
        "id": "dZa4dFO4xiJl"
      },
      "outputs": [],
      "source": [
        "modelo = tf.keras.Sequential([\n",
        "    rescalado, \n",
        "    zoom_in,\n",
        "    tf.keras.layers.Conv2D(filtro_conv1, size_filtro1, padding = 'same', activation= 'relu', name = 'conv1'), #padding = same es para que tenga el mismo tamaño que la imagen original\n",
        "    tf.keras.layers.MaxPooling2D(pool_size= size_pool1, name = 'pooling1'),\n",
        "    tf.keras.layers.Conv2D(filtro_conv2, size_filtro2, padding = 'same', activation= 'relu', name = 'conv2'), #padding = same es para que tenga el mismo tamaño que la imagen original\n",
        "    tf.keras.layers.MaxPooling2D(pool_size= size_pool2, name = 'pooling2'),\n",
        "    tf.keras.layers.Flatten(),\n",
        "    tf.keras.layers.Dense(neuron_dense1, activation = 'relu', name = 'FC1'),\n",
        "    tf.keras.layers.Dropout(drop_out), #es para que active en cada paso la mitad de las neurnas, y asi evitamos el overfitting\n",
        "    tf.keras.layers.Dense(num_cat, activation='softmax', name = 'output')\n",
        "])"
      ]
    },
    {
      "cell_type": "code",
      "execution_count": null,
      "metadata": {
        "id": "BTa3Z845b2qL"
      },
      "outputs": [],
      "source": [
        "modelo.compile(\n",
        "  optimizer='adam',\n",
        "  loss=tf.losses.SparseCategoricalCrossentropy(from_logits=True),\n",
        "  metrics=['accuracy'])"
      ]
    },
    {
      "cell_type": "code",
      "execution_count": null,
      "metadata": {
        "colab": {
          "base_uri": "https://localhost:8080/"
        },
        "id": "KruU10Iudp79",
        "outputId": "f73974f0-301c-4f61-fc46-34576df55900"
      },
      "outputs": [
        {
          "output_type": "stream",
          "name": "stdout",
          "text": [
            "Epoch 1/5\n"
          ]
        },
        {
          "output_type": "stream",
          "name": "stderr",
          "text": [
            "/usr/local/lib/python3.7/dist-packages/tensorflow/python/util/dispatch.py:1082: UserWarning: \"`sparse_categorical_crossentropy` received `from_logits=True`, but the `output` argument was produced by a sigmoid or softmax activation and thus does not represent logits. Was this intended?\"\n",
            "  return dispatch_target(*args, **kwargs)\n"
          ]
        },
        {
          "output_type": "stream",
          "name": "stdout",
          "text": [
            "348/348 [==============================] - 541s 2s/step - loss: 0.4798 - accuracy: 0.7872 - val_loss: 0.9098 - val_accuracy: 0.6875\n",
            "Epoch 2/5\n",
            "348/348 [==============================] - 214s 616ms/step - loss: 0.3743 - accuracy: 0.8261 - val_loss: 0.6135 - val_accuracy: 0.7420\n",
            "Epoch 3/5\n",
            "348/348 [==============================] - 214s 616ms/step - loss: 0.3640 - accuracy: 0.8336 - val_loss: 0.5116 - val_accuracy: 0.7997\n",
            "Epoch 4/5\n",
            "348/348 [==============================] - 213s 611ms/step - loss: 0.3347 - accuracy: 0.8576 - val_loss: 0.6245 - val_accuracy: 0.7708\n",
            "Epoch 5/5\n",
            "348/348 [==============================] - 215s 616ms/step - loss: 0.3199 - accuracy: 0.8602 - val_loss: 0.6545 - val_accuracy: 0.7853\n"
          ]
        },
        {
          "output_type": "execute_result",
          "data": {
            "text/plain": [
              "<keras.callbacks.History at 0x7fc320421ad0>"
            ]
          },
          "metadata": {},
          "execution_count": 19
        }
      ],
      "source": [
        "modelo.fit(\n",
        "  train_data,\n",
        "  validation_data = test_data,\n",
        "  epochs = epocas\n",
        ")"
      ]
    },
    {
      "cell_type": "code",
      "execution_count": null,
      "metadata": {
        "id": "R6Utr8ufNR-L"
      },
      "outputs": [],
      "source": [
        "y_pred = modelo.predict(x_test/255)\n",
        "#y_pred es un narray de (720, 2), es decir tenemos 720 vectores de 2 dimensiones: [prob Normal, prob Pneumonia]\n",
        "#mi y_pred_0 va a ser el resultados de prob Normal:\n",
        "y_pred_0 = [y[0] for y in y_pred.tolist()]\n",
        "y_pred_1 = [y[1] for y in y_pred.tolist()]"
      ]
    },
    {
      "cell_type": "code",
      "execution_count": null,
      "metadata": {
        "colab": {
          "base_uri": "https://localhost:8080/",
          "height": 295
        },
        "id": "to2NvLj3qEVQ",
        "outputId": "3a5964ed-e64b-4977-c020-acaf99fd7f62"
      },
      "outputs": [
        {
          "output_type": "display_data",
          "data": {
            "text/plain": [
              "<Figure size 432x288 with 1 Axes>"
            ],
            "image/png": "[encoded data removed]"
          },
          "metadata": {
            "needs_background": "light"
          }
        }
      ],
      "source": [
        "fp, vp, thresholds = roc_curve(y_test, y_pred_0)\n",
        "\n",
        "#Area bajo la curva ROC\n",
        "auc1 = auc(fp, vp)\n",
        "\n",
        "#Grafico\n",
        "plt.figure(1)\n",
        "plt.plot([0, 1], [0, 1], 'k--')\n",
        "plt.plot(fp, vp, label='CNN (area = {:.3f})'.format(auc1))\n",
        "plt.xlabel('Ratio de Falsos positivos')\n",
        "plt.ylabel('Ratio de Verdaderos positivos')\n",
        "plt.title('Curva ROC')\n",
        "plt.legend(loc='best')\n",
        "plt.show()\n",
        "\n"
      ]
    },
    {
      "cell_type": "markdown",
      "source": [
        "Como vemos los resultados no son nada alentadores. Tenemos que mejorar la presición y el auc. Según este gráfico vemos que nuestro modelo es más bien un flip coin... \n",
        "Habrá que tratar un poco más los datos, por ejemplo: \n",
        "\n",
        "1) agregar una leve rtación e las imagenes, ya que mirando alguna de ellas se ve que no están del todo rectas\n",
        "\n",
        "2) separar los datos de Pneumonia bacteriana de los de la virica, y hacer una clasificación a tres o quiza una clasificación: Normal Pneumonia Bacteriana y otra clasificación: Normal - Pneumonia Vírica. \n",
        "\n",
        "Además de analizar que CNN podemos crear."
      ],
      "metadata": {
        "id": "xA1Aq2l1AnKR"
      }
    },
    {
      "cell_type": "code",
      "execution_count": null,
      "metadata": {
        "id": "yvlCeh_AwHt1"
      },
      "outputs": [],
      "source": [
        "df = pd.DataFrame({'fp':fp, 'vp':vp, 'corte': thresholds})"
      ]
    },
    {
      "cell_type": "code",
      "execution_count": null,
      "metadata": {
        "colab": {
          "base_uri": "https://localhost:8080/",
          "height": 17
        },
        "id": "RBaK_CK0xIDb",
        "outputId": "62d40c64-dcbf-42fd-aff3-c71f6b21b3b8"
      },
      "outputs": [
        {
          "output_type": "display_data",
          "data": {
            "text/plain": [
              "<IPython.core.display.Javascript object>"
            ],
            "application/javascript": [
              "\n",
              "    async function download(id, filename, size) {\n",
              "      if (!google.colab.kernel.accessAllowed) {\n",
              "        return;\n",
              "      }\n",
              "      const div = document.createElement('div');\n",
              "      const label = document.createElement('label');\n",
              "      label.textContent = `Downloading \"${filename}\": `;\n",
              "      div.appendChild(label);\n",
              "      const progress = document.createElement('progress');\n",
              "      progress.max = size;\n",
              "      div.appendChild(progress);\n",
              "      document.body.appendChild(div);\n",
              "\n",
              "      const buffers = [];\n",
              "      let downloaded = 0;\n",
              "\n",
              "      const channel = await google.colab.kernel.comms.open(id);\n",
              "      // Send a message to notify the kernel that we're ready.\n",
              "      channel.send({})\n",
              "\n",
              "      for await (const message of channel.messages) {\n",
              "        // Send a message to notify the kernel that we're ready.\n",
              "        channel.send({})\n",
              "        if (message.buffers) {\n",
              "          for (const buffer of message.buffers) {\n",
              "            buffers.push(buffer);\n",
              "            downloaded += buffer.byteLength;\n",
              "            progress.value = downloaded;\n",
              "          }\n",
              "        }\n",
              "      }\n",
              "      const blob = new Blob(buffers, {type: 'application/binary'});\n",
              "      const a = document.createElement('a');\n",
              "      a.href = window.URL.createObjectURL(blob);\n",
              "      a.download = filename;\n",
              "      div.appendChild(a);\n",
              "      a.click();\n",
              "      div.remove();\n",
              "    }\n",
              "  "
            ]
          },
          "metadata": {}
        },
        {
          "output_type": "display_data",
          "data": {
            "text/plain": [
              "<IPython.core.display.Javascript object>"
            ],
            "application/javascript": [
              "download(\"download_fb3ac4be-a61c-4b18-a516-7c9e7c0ed2a5\", \"output.csv\", 17049)"
            ]
          },
          "metadata": {}
        }
      ],
      "source": [
        "from google.colab import files\n",
        "df.to_csv('output.csv', encoding = 'utf-8-sig') \n",
        "files.download('output.csv')"
      ]
    },
    {
      "cell_type": "code",
      "execution_count": null,
      "metadata": {
        "id": "osm2raLn-99O"
      },
      "outputs": [],
      "source": [
        "df_real_prob =pd.DataFrame({'real':y_test, 'prob_0': y_pred_0, 'prob_1': y_pred_1})"
      ]
    },
    {
      "cell_type": "code",
      "execution_count": null,
      "metadata": {
        "colab": {
          "base_uri": "https://localhost:8080/",
          "height": 17
        },
        "id": "Klp321Zp_S5E",
        "outputId": "c8aeed7c-409e-4a13-f43a-c69785f0c8e7"
      },
      "outputs": [
        {
          "output_type": "display_data",
          "data": {
            "text/plain": [
              "<IPython.core.display.Javascript object>"
            ],
            "application/javascript": [
              "\n",
              "    async function download(id, filename, size) {\n",
              "      if (!google.colab.kernel.accessAllowed) {\n",
              "        return;\n",
              "      }\n",
              "      const div = document.createElement('div');\n",
              "      const label = document.createElement('label');\n",
              "      label.textContent = `Downloading \"${filename}\": `;\n",
              "      div.appendChild(label);\n",
              "      const progress = document.createElement('progress');\n",
              "      progress.max = size;\n",
              "      div.appendChild(progress);\n",
              "      document.body.appendChild(div);\n",
              "\n",
              "      const buffers = [];\n",
              "      let downloaded = 0;\n",
              "\n",
              "      const channel = await google.colab.kernel.comms.open(id);\n",
              "      // Send a message to notify the kernel that we're ready.\n",
              "      channel.send({})\n",
              "\n",
              "      for await (const message of channel.messages) {\n",
              "        // Send a message to notify the kernel that we're ready.\n",
              "        channel.send({})\n",
              "        if (message.buffers) {\n",
              "          for (const buffer of message.buffers) {\n",
              "            buffers.push(buffer);\n",
              "            downloaded += buffer.byteLength;\n",
              "            progress.value = downloaded;\n",
              "          }\n",
              "        }\n",
              "      }\n",
              "      const blob = new Blob(buffers, {type: 'application/binary'});\n",
              "      const a = document.createElement('a');\n",
              "      a.href = window.URL.createObjectURL(blob);\n",
              "      a.download = filename;\n",
              "      div.appendChild(a);\n",
              "      a.click();\n",
              "      div.remove();\n",
              "    }\n",
              "  "
            ]
          },
          "metadata": {}
        },
        {
          "output_type": "display_data",
          "data": {
            "text/plain": [
              "<IPython.core.display.Javascript object>"
            ],
            "application/javascript": [
              "download(\"download_6be073c8-c547-4317-92c5-ca44e13345fc\", \"df_real_prob.csv\", 27519)"
            ]
          },
          "metadata": {}
        }
      ],
      "source": [
        "df_real_prob.to_csv('df_real_prob.csv', encoding = 'utf-8-sig') \n",
        "files.download('df_real_prob.csv')"
      ]
    }
  ],
  "metadata": {
    "colab": {
      "collapsed_sections": [],
      "name": "ClasificacionCNN.ipynb",
      "provenance": [],
      "mount_file_id": "1Yi9DviiniznCMYdiFkhXORR24P2F88sZ",
      "authorship_tag": "ABX9TyMpcFH4Jna+GxLoXq6ADRNy",
      "include_colab_link": true
    },
    "kernelspec": {
      "display_name": "Python 3",
      "name": "python3"
    },
    "language_info": {
      "name": "python"
    }
  },
  "nbformat": 4,
  "nbformat_minor": 0
}