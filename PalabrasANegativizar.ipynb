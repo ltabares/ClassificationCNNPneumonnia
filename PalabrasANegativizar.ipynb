{
  "nbformat": 4,
  "nbformat_minor": 0,
  "metadata": {
    "colab": {
      "provenance": [],
      "include_colab_link": true
    },
    "kernelspec": {
      "name": "python3",
      "display_name": "Python 3"
    },
    "language_info": {
      "name": "python"
    },
    "accelerator": "GPU"
  },
  "cells": [
    {
      "cell_type": "markdown",
      "metadata": {
        "id": "view-in-github",
        "colab_type": "text"
      },
      "source": [
        "<a href=\"https://colab.research.google.com/github/ltabares/ClassificationCNNPneumonnia/blob/main/PalabrasANegativizar.ipynb\" target=\"_parent\"><img src=\"https://colab.research.google.com/assets/colab-badge.svg\" alt=\"Open In Colab\"/></a>"
      ]
    },
    {
      "cell_type": "code",
      "source": [
        "!git clone https://github.com/ltabares/Horizon.git"
      ],
      "metadata": {
        "id": "W8f_fztN93fi",
        "colab": {
          "base_uri": "https://localhost:8080/"
        },
        "outputId": "97c4bdb9-04f7-4376-e380-dee338509fcb"
      },
      "execution_count": 16,
      "outputs": [
        {
          "output_type": "stream",
          "name": "stdout",
          "text": [
            "Cloning into 'Horizon'...\n",
            "remote: Enumerating objects: 9, done.\u001b[K\n",
            "remote: Counting objects: 100% (9/9), done.\u001b[K\n",
            "remote: Compressing objects: 100% (7/7), done.\u001b[K\n",
            "remote: Total 9 (delta 1), reused 0 (delta 0), pack-reused 0\u001b[K\n",
            "Unpacking objects: 100% (9/9), done.\n"
          ]
        }
      ]
    },
    {
      "cell_type": "code",
      "execution_count": null,
      "metadata": {
        "id": "WoWA2sbMFf8H",
        "colab": {
          "base_uri": "https://localhost:8080/"
        },
        "outputId": "42838ba3-5aca-4a59-be6e-b8820261632b"
      },
      "outputs": [
        {
          "output_type": "stream",
          "name": "stdout",
          "text": [
            "\u001b[38;5;2m✔ Download and installation successful\u001b[0m\n",
            "You can now load the package via spacy.load('es_core_news_lg')\n",
            "Mounted at /gdrive\n"
          ]
        }
      ],
      "source": [
        "import numpy as np     \n",
        "import matplotlib.pyplot as plt  \n",
        "import pandas as pd \n",
        "import seaborn as sns #importamos libreria para hacer calculos con documentos parecidos a excel\n",
        "import random as rd\n",
        "import os as o\n",
        "import matplotlib as mpl\n",
        "\n",
        "import spacy\n",
        "#Caragamos el modelo de spacy para el idioma que queremos, en este caso el español\n",
        "spacy.cli.download(\"es_core_news_lg\")\n",
        "nlp = spacy.load(\"es_core_news_lg\")\n",
        "\n",
        "from nltk import word_tokenize\n",
        "from nltk.stem import SnowballStemmer\n",
        "stemmer = SnowballStemmer('spanish')\n",
        "\n",
        "from google.colab import drive\n",
        "# To mount Google Drive\n",
        "drive.mount('/gdrive')\n"
      ]
    },
    {
      "cell_type": "code",
      "source": [
        "#Funcion limpieza de textos\n",
        "#Recibe un texto lo limpia de stopwords y de puntuaciones, lo lematiza y devuelve un conjunto formado por las palabras lematizadas del texto\n",
        "def limpiezaDoc(text):\n",
        "  doc = nlp(text)\n",
        "  docCleaned = [token for token in doc if not token.is_stop and not token.is_punct]\n",
        "  docLemma = [token.lemma_ for token in docCleaned]\n",
        "  return set(docLemma)\n",
        "\n",
        "#Recibe un conjunto de palabras y les aplica Stemming\n",
        "def stemmingDoc(text):\n",
        "  docStemmer = [stemmer.stem(token) for token in list(text)]\n",
        "  return set(docStemmer)\n",
        "\n",
        "# Funcion de búsqueda. Recibe dos conjuntos de palabras y hace la intersección\n",
        "def funcionBusqueda(x, setBusqueda):\n",
        "    resultIntersection = x.intersection(setBusqueda)\n",
        "    #if len(resultIntersection) > 0:\n",
        "      #print(resultIntersection)\n",
        "    return len(resultIntersection)\n",
        "\n",
        "#Toni: Por qué usé conjuntos en vez de listas? Porque los conjuntos eliminan palabras repetidas. Y en Python existe la función intersección entre conjuntos, y entiendo que estará muy optimizada.\n",
        "#Modifica el código como te parezca"
      ],
      "metadata": {
        "id": "nr4RvVKVdMvJ"
      },
      "execution_count": null,
      "outputs": []
    },
    {
      "cell_type": "code",
      "source": [
        "#Paths\n",
        "path = '/gdrive/MyDrive/Colab Notebooks/Horizon/'\n",
        "\n",
        "#Cargamos los ficheros\n",
        "palabras_negativas = 'Palabras_clave_negativas.csv'\n",
        "palabras_negativas_df = pd.read_csv(path + palabras_negativas, sep = \";\")\n",
        "\n",
        "terminos_busqueda = 'Terminos_de_busqueda_Python.csv'\n",
        "terminos_busqueda_df = pd.read_csv(path + terminos_busqueda, sep = \";\")\n"
      ],
      "metadata": {
        "id": "ndwXSl4gGZgj"
      },
      "execution_count": null,
      "outputs": []
    },
    {
      "cell_type": "code",
      "source": [
        "#limpiamos los textos del data frame palabras_negativas_df\n",
        "palabras_negativas_df['PalabrasNegativasLematizadas'] = palabras_negativas_df['Palabras clave negativas'].apply(limpiezaDoc)\n",
        "palabras_negativas_df['PalabrasNegativasStemming'] = palabras_negativas_df['PalabrasNegativasLematizadas'].apply(stemmingDoc)\n",
        "\n",
        "#Pasamos los valores de palabras clave a listas\n",
        "setLemma_n = set().union(*palabras_negativas_df['PalabrasNegativasLematizadas'].tolist())\n",
        "print(setLemma_n)\n",
        "\n",
        "setStemming_n = set().union(*palabras_negativas_df['PalabrasNegativasStemming'].tolist())\n",
        "print(setStemming_n)"
      ],
      "metadata": {
        "id": "1ZDMPVYvRuwP",
        "colab": {
          "base_uri": "https://localhost:8080/"
        },
        "outputId": "40bacbd7-972e-41e4-8df5-b5388a188e61"
      },
      "execution_count": null,
      "outputs": [
        {
          "output_type": "stream",
          "name": "stdout",
          "text": [
            "{'tarifa', 'medidor', 'dimensionar', 'almacir', 'optimitzadores', 'estratificación', 'caloportador', 'temperatura', 'registro', 'casero', 'climatizar', 'ventana', 'frigorifico', 'obligatoriedad', 'inclinacion', 'estacion', 'separacion', 'almacén', 'capacidad', 'seguro', 'peso', 'hibrido', 'tecnico', 'valvula', 'gasnaturalfenosa', 'calentador', 'portatil', 'calima', 'pergola', 'deducción', 'impuesto', 'dimensionado', 'invest', 'cargador', 'radiación', 'marquesina', 'segundamano', 'autoinstalable', 'granizo', 'controlador', 'compromiso', 'aerogenerador', 'alquiler', 'colector', 'huerta', 'fachada', 'latitud', 'contaminar', 'circuito', 'natural', 'queja', 'granja', 'fenós', 'parque', 'pila', 'cie', 'caldera', 'conversor', 'generador', 'aerogenerar', 'excel', 'excedent', 'monocristalina', 'protección', 'méxico', 'bolsa', 'industrial', 'estructura', 'tesla', 'jacuzzi', 'productor', 'estufas', 'teja', 'calefactor', 'domestico', 'vehiculo', 'watts', 'terraza', 'nevera', 'mantenimiento', 'alquilar', 'refrigeración', 'dimension', 'antirretorno', 'medida', 'almacenamiento', 'salario', 'soporte', 'gas', 'ingeniería', 'comercio', 'central', 'electricidad', 'bateria', 'comunidad', 'fabricar', 'deposito', 'bonificacion', 'chile', 'legalización', 'multa', 'antivertido', 'cubierto', 'hidrogeno', 'fusible', 'ventilador', 'convertidor', 'porsche', 'transformador', 'kilowatts', 'movil', 'esquema', 'policristalino', 'tragaluz', 'componente', 'estafa', 'hidropanel', 'ley', 'híbrido', 'inversor', 'transformar', 'rodante', 'tamaño', 'mapa', 'gratis', 'tubo', 'acumulador', 'ingeniero', 'climatización', 'diy', 'depuradoro', 'niño', 'riego', 'amperio', 'chino', 'pared', 'cliente', 'eólico', 'termo', 'microinversor', 'frigorífico', 'inyectar', 'inclinación', 'captador', 'ingenieria', 'pdf', 'contrato', 'invertir', 'cero', 'comunitario', 'alimentacion', 'farola', 'bomba', 'piscina', 'parabo él', 'porcentaje', 'programa', 'ruido', 'diagrama', 'portátil', 'bateriar', 'enchufe', 'porche', 'turbina', 'mexico', 'excedente', 'mano', 'vender', 'comercializadoro', 'vecino', 'doméstico', 'balcón', 'calentamiento', 'ordenador', 'distancia', 'termica', 'campo', 'transporte', 'silicio', 'pantano', 'acción', 'refrigerador', 'motor', 'eléctrico', 'vigilancia', 'ficha', 'enchuf', 'eolico', 'buscador', 'bote', 'farol', 'normativa', 'neveras', 'alimentar', 'revista', 'servisolar', 'luz', 'electrica', 'mixto', 'composición', 'enchufar', 'irradiación', 'software', 'vatio', 'noticia', 'gasoil', 'inyeccion', 'proceso', 'furgoneta', 'aerotermia', 'producir', 'coche', 'compensación', 'trifásico', 'domotico', 'vacío', 'hidrosolar', 'anticongelante', 'geotermia', 'lampara', 'vida', 'arquitectura', 'combinador', 'huerto', 'conector', 'tracker', 'proyecto', 'algeciras', 'almacenaje', 'regulador', 'anclaje', 'técnico', 'viento', 'lámina', 'conexión', 'compensacion', 'pintura', 'optimizador', 'cámara', 'autoconsumoni', 'lavadora', 'sensor', 'toldo', 'estudio', 'modulo', 'irpf', 'electrodomestico'}\n",
            "{'vend', 'medidor', 'chil', 'silici', 'antivert', 'pantan', 'cubiert', 'inclinacion', 'estacion', 'antirretorn', 'vid', 'gasnaturalfen', 'autoinstal', 'separacion', 'fich', 'manten', 'hidrogen', 'told', 'compens', 'ingenier', 'mixt', 'distanci', 'transport', 'comunitari', 'portatil', 'comercializador', 'invert', 'proyect', 'valvul', 'invest', 'cargador', 'impuest', 'circuit', 'capac', 'acumul', 'colector', 'rodant', 'latitud', 'estudi', 'bateri', 'contamin', 'natural', 'soport', 'caser', 'segur', 'optimiz', 'fabric', 'track', 'irradi', 'trifas', 'parabo el', 'conversor', 'cie', 'esquem', 'anclaj', 'excel', 'excedent', 'conexion', 'chin', 'calim', 'tesl', 'revist', 'industrial', 'modul', 'mexic', 'estuf', 'jacuzzi', 'termic', 'anticongel', 'vati', 'client', 'productor', 'calefactor', 'tej', 'watts', 'fenos', 'vecin', 'ruid', 'gener', 'amperi', 'accion', 'fach', 'dimension', 'bot', 'gas', 'pes', 'central', 'inyect', 'lamin', 'bonificacion', 'ventil', 'deposit', 'marquesin', 'camp', 'convertidor', 'granj', 'kilowatts', 'movil', 'deduccion', 'pergol', 'tragaluz', 'contrat', 'hibr', 'turbin', 'hidropanel', 'produc', 'depurador', 'ley', 'inversor', 'coch', 'calder', 'aerogener', 'gratis', 'radiacion', 'porcentaj', 'diy', 'caloport', 'graniz', 'legaliz', 'policristalin', 'optimitz', 'combin', 'huert', 'pdf', 'microinversor', 'lavador', 'captador', 'compromis', 'alimentacion', 'regul', 'porch', 'med', 'furgonet', 'estructur', 'bols', 'rieg', 'porsch', 'segundaman', 'almacenaj', 'cam', 'temperatur', 'cer', 'transform', 'servisol', 'term', 'vigil', 'vehicul', 'vient', 'almacen', 'lamp', 'tub', 'mult', 'monocristalin', 'softwar', 'quej', 'ingeni', 'fusibl', 'refriger', 'salari', 'motor', 'map', 'tamañ', 'domest', 'enchuf', 'estaf', 'orden', 'buscador', 'farol', 'inclin', 'bomb', 'eolic', 'par', 'terraz', 'pil', 'hidrosol', 'domot', 'luz', 'program', 'normat', 'piscin', 'gasoil', 'inyeccion', 'vaci', 'arquitectur', 'comerci', 'calent', 'registr', 'component', 'ventan', 'diagram', 'almac', 'notici', 'frigorif', 'irpf', 'alquil', 'aerotermi', 'conector', 'tarif', 'tecnic', 'niñ', 'control', 'composicion', 'pintur', 'algecir', 'electrodomest', 'aliment', 'parqu', 'never', 'climatiz', 'comun', 'compensacion', 'estratif', 'sensor', 'balcon', 'autoconsumoni', 'ingenieri', 'obligatoried', 'man', 'proces', 'geotermi', 'electr', 'proteccion'}\n"
          ]
        }
      ]
    },
    {
      "cell_type": "code",
      "source": [
        "#limpiamos los textos del data frame palabras_negativas_df\n",
        "terminos_busqueda_df['SetPalabrasLematizadas'] = terminos_busqueda_df['Término de búsqueda'].apply(limpiezaDoc)\n",
        "terminos_busqueda_df['SetPalabrasStemming'] = terminos_busqueda_df['SetPalabrasLematizadas'].apply(stemmingDoc)\n"
      ],
      "metadata": {
        "id": "yflx6FrQ-yOn"
      },
      "execution_count": null,
      "outputs": []
    },
    {
      "cell_type": "code",
      "source": [
        "print('Lemma')\n",
        "terminos_busqueda_df['IntersecciónLemma'] = terminos_busqueda_df['SetPalabrasLematizadas'].apply(funcionBusqueda, setBusqueda = setLemma_n)\n",
        "print('Stemming')\n",
        "terminos_busqueda_df['IntersecciónStemming'] = terminos_busqueda_df['SetPalabrasStemming'].apply(funcionBusqueda, setBusqueda = setStemming_n)"
      ],
      "metadata": {
        "id": "8L_4ntD8fy1v"
      },
      "execution_count": null,
      "outputs": []
    },
    {
      "cell_type": "code",
      "source": [
        " terminos_busqueda_df.query('IntersecciónLemma > 0 or IntersecciónStemming > 0')"
      ],
      "metadata": {
        "id": "f3LPmvY8hQf6"
      },
      "execution_count": null,
      "outputs": []
    }
  ]
}